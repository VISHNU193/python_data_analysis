{
 "cells": [
  {
   "cell_type": "code",
   "execution_count": 27,
   "id": "4cf214df",
   "metadata": {},
   "outputs": [
    {
     "name": "stdout",
     "output_type": "stream",
     "text": [
      "1\n",
      "2\n"
     ]
    }
   ],
   "source": [
    "x=10\n",
    "d={\"name\":\"Vishnu\"}\n",
    "l=[1,2]\n",
    "try:\n",
    "#     x/0\n",
    "#     d[\"vishnu\"]\n",
    "    print(y)\n",
    "    l[100]\n",
    "except ZeroDivisionError:\n",
    "    print(\"ZeroDivisionError has occered\")\n",
    "except NameError:\n",
    "    print(\"name error\")\n",
    "except KeyError:\n",
    "    print(1)\n",
    "except IndexError:\n",
    "    print(2)"
   ]
  },
  {
   "cell_type": "code",
   "execution_count": 16,
   "id": "9ab48c41",
   "metadata": {},
   "outputs": [
    {
     "name": "stdout",
     "output_type": "stream",
     "text": [
      "Index error occured\n",
      "[1, 2, 3, 4, 5]\n"
     ]
    }
   ],
   "source": [
    "y=1\n",
    "l=[1,2,3,4,5]\n",
    "try:\n",
    "    x = 10//y\n",
    "    l[x]=5\n",
    "except ZeroDivisionError:\n",
    "    print(\"Divide by zro not allowed\")\n",
    "except IndexError:\n",
    "    print(\"Index error occured\")\n",
    "except TypeError:\n",
    "    print(\"Type error occured\")\n",
    "else:\n",
    "    print(\"No exception occured\")\n",
    "finally:\n",
    "    print(l)"
   ]
  },
  {
   "cell_type": "code",
   "execution_count": 36,
   "id": "47c05101",
   "metadata": {},
   "outputs": [
    {
     "name": "stdout",
     "output_type": "stream",
     "text": [
      "1\n",
      "2\n",
      "dfdsf\n",
      "Enter an integer\n",
      "\n",
      "Enter an integer\n",
      "456\n",
      "56\n",
      "5\n",
      "[1, 2, 456, 56, 5]\n",
      "Sum :  520\n",
      "Average :  104.0\n"
     ]
    }
   ],
   "source": [
    "l=[]\n",
    "\n",
    "c=5\n",
    "while c>0:\n",
    "    try:\n",
    "        x=input()\n",
    "        if not x.isdigit():\n",
    "            raise Exception(\"Enter an integer\")\n",
    "        else:\n",
    "            l.append(int(x))\n",
    "            c-=1 \n",
    "    except Exception as e:\n",
    "        print(e)\n",
    "    \n",
    "print(l)\n",
    "print(\"Sum : \",sum(l))\n",
    "print(\"Average : \",sum(l)/len(l))"
   ]
  },
  {
   "cell_type": "code",
   "execution_count": 34,
   "id": "8f97ae78",
   "metadata": {},
   "outputs": [
    {
     "name": "stdout",
     "output_type": "stream",
     "text": [
      "Enter age: -1\n",
      "Not valid age\n"
     ]
    }
   ],
   "source": [
    "try:\n",
    "    age = int(input(\"Enter age: \"))\n",
    "    if age>=1 and age <=150:\n",
    "        if age>=18:\n",
    "            print(\"Eligible to vote\")\n",
    "        else:\n",
    "            print(\"Not eligible to vote\")\n",
    "    else:\n",
    "        raise Exception(\"Not valid age\")\n",
    "except Exception as e:\n",
    "    print(e)"
   ]
  },
  {
   "cell_type": "code",
   "execution_count": 39,
   "id": "e024539b",
   "metadata": {},
   "outputs": [
    {
     "name": "stdout",
     "output_type": "stream",
     "text": [
      "Enter a number : -8\n",
      "Enter a positive number\n",
      "Enter a number : -7\n",
      "Enter a positive number\n",
      "Enter a number : 0\n",
      "Square root :  0.0\n"
     ]
    }
   ],
   "source": [
    "import math\n",
    "def MySqrt():\n",
    "    try:\n",
    "        x = float(input(\"Enter a number : \"))\n",
    "        if x<0:\n",
    "            raise Exception(\"Enter a positive number\")\n",
    "        else:\n",
    "            print(\"Square root : \",math.sqrt(x)) \n",
    "    except Exception as e:\n",
    "        print(e)\n",
    "        return MySqrt()\n",
    "\n",
    "MySqrt()\n",
    "        "
   ]
  },
  {
   "cell_type": "code",
   "execution_count": 1,
   "id": "21530afe",
   "metadata": {},
   "outputs": [
    {
     "name": "stdout",
     "output_type": "stream",
     "text": [
      "Enter deposit amount : 100000\n",
      "Balance updated,balance : 200000.0\n",
      "Enter withdraw amount-1972\n",
      "Enter a positive number\n",
      "Enter withdraw amount76937826483264\n",
      "Withdraw amount greater than current balance :200000.0 \n",
      "Enter withdraw amountabdf\n",
      "could not convert string to float: 'abdf'\n",
      "Enter withdraw amount40000\n",
      "Balance updated,balance : 160000.0\n"
     ]
    }
   ],
   "source": [
    "\n",
    "class Bank:\n",
    "    def __init__(self,bal):\n",
    "        self.bal = bal\n",
    "\n",
    "    def deposit(self):\n",
    "        cond=True\n",
    "        while cond:\n",
    "            try:\n",
    "                x = float(input(\"Enter deposit amount : \"))\n",
    "                if x<0:\n",
    "                    raise Exception(\"Enter a positive amount \")\n",
    "                cond = False\n",
    "                self.bal += x\n",
    "                print(\"Balance updated,balance :\",self.bal)\n",
    "            except Exception as e:\n",
    "                print(e)\n",
    "            except ValueError:\n",
    "                print(\"Enter valid number\")\n",
    "\n",
    "    def withdraw(self):\n",
    "        cond = True\n",
    "        while cond:\n",
    "            try:\n",
    "                x = float(input(\"Enter withdraw amount\"))\n",
    "                if x<0:\n",
    "                    raise Exception(\"Enter a positive number\")\n",
    "                if self.bal-x<0:\n",
    "                    raise Exception(f\"Withdraw amount greater than current balance :{self.bal} \")\n",
    "                cond = False\n",
    "                self.bal -= x\n",
    "                print(\"Balance updated,balance :\",self.bal)\n",
    "            except Exception as e:\n",
    "                print(e)\n",
    "p1 = Bank(100000)\n",
    "p1.deposit()\n",
    "p1.withdraw()"
   ]
  },
  {
   "cell_type": "code",
   "execution_count": null,
   "id": "4bfead97",
   "metadata": {},
   "outputs": [],
   "source": []
  },
  {
   "cell_type": "code",
   "execution_count": null,
   "id": "60ac9833",
   "metadata": {},
   "outputs": [],
   "source": []
  }
 ],
 "metadata": {
  "kernelspec": {
   "display_name": "Python 3 (ipykernel)",
   "language": "python",
   "name": "python3"
  },
  "language_info": {
   "codemirror_mode": {
    "name": "ipython",
    "version": 3
   },
   "file_extension": ".py",
   "mimetype": "text/x-python",
   "name": "python",
   "nbconvert_exporter": "python",
   "pygments_lexer": "ipython3",
   "version": "3.8.10"
  }
 },
 "nbformat": 4,
 "nbformat_minor": 5
}
