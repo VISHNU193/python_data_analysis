{
 "cells": [
  {
   "cell_type": "code",
   "execution_count": null,
   "id": "d6c9a22a",
   "metadata": {},
   "outputs": [],
   "source": [
    "name = input(\"Enter name : \")\n",
    "usn = input(\"Enter usn : \")\n",
    "sem = input(\"Enter semester : \")\n",
    "subjects = input(\"Enter subjects : \")\n",
    "cgpa = input(\"ENter cgpa : \")\n",
    "\n",
    "f = open(\"student.txt\",\"w\")\n",
    "f.write(\"Name : \"+name+\"\\n\")\n",
    "f.write(\"USN : \"+usn+\"\\n\")\n",
    "f.write(\"Semester : \"+sem+\"\\n\")\n",
    "f.write(\"subjects : \"+subjects+\"\\n\")\n",
    "f.write(\"CGPA : \"+cgpa+\"\\n\")\n",
    "\n",
    "f.close()\n",
    "\n",
    "print(\"Written into file student.txt\")\n",
    "\n",
    "g = open(\"student.txt\",\"r\")\n",
    "\n",
    "content = g.readlines()\n",
    "\n",
    "for x in content:\n",
    "    print(x)\n"
   ]
  },
  {
   "cell_type": "code",
   "execution_count": null,
   "id": "10179602",
   "metadata": {},
   "outputs": [],
   "source": [
    "import string\n",
    "f = open(\"AlphabetDigitsText.txt\",\"w\")\n",
    "print(\"Enter 5 lines\")\n",
    "for _ in range(5):\n",
    "    x = input()\n",
    "    f.write(x+\"\\n\")\n",
    "\n",
    "f.close()\n",
    "\n",
    "g = open(\"AlphabetDigitsText.txt\",\"r\")\n",
    "content = g.read()\n",
    "\n",
    "l=0\n",
    "u=0\n",
    "d=0\n",
    "\n",
    "for x in content:\n",
    "    if x in string.ascii_lowercase:\n",
    "        l+=1\n",
    "    if x in string.ascii_uppercase:\n",
    "        u+=1\n",
    "    if x in string.digits:\n",
    "        d+=1\n",
    "\n",
    "print(\"Lower case :\",l)\n",
    "print(\"Uppercase :\",u)\n",
    "print(\"Digits :\",d)"
   ]
  },
  {
   "cell_type": "code",
   "execution_count": 9,
   "id": "c33620e3",
   "metadata": {},
   "outputs": [
    {
     "name": "stdout",
     "output_type": "stream",
     "text": [
      "no. of lines =  5\n",
      "no. of characters = 68\n",
      "no. of digits = 0\n",
      "{'this': 1, 'is': 3, 'a': 10, 'python': 1, 'program': 1, 'to': 1, 'count': 1, 'digits': 1, 'and': 1, 'alphabets': 1, 'the': 5, 'z': 1}\n"
     ]
    }
   ],
   "source": [
    "import string\n",
    "f = open(\"AlphabetDigitsText.txt\",\"w\")\n",
    "print(\"Enter 5 lines\")\n",
    "for _ in range(5):\n",
    "    x = input()\n",
    "    f.write(x+\"\\n\")\n",
    "\n",
    "f.close()\n",
    "\n",
    "g = open(\"AlphabetDigitsText.txt\",\"r\")\n",
    "h = open(\"AlphabetDigitsText.txt\",\"r\")\n",
    "content = g.read()\n",
    "contentlist = h.readlines()\n",
    "words = content.split()\n",
    "w_c = {}\n",
    "\n",
    "for x in words:\n",
    "    if x not in w_c:\n",
    "        w_c[x] = content.count(x)\n",
    "\n",
    "l=0\n",
    "u=0\n",
    "d=0\n",
    "\n",
    "for x in content:\n",
    "    if x in string.ascii_lowercase:\n",
    "        l+=1\n",
    "    if x in string.ascii_uppercase:\n",
    "        u+=1\n",
    "    if x in string.digits:\n",
    "        d+=1\n",
    "print(\"no. of lines = \",len(contentlist))\n",
    "print(\"no. of characters =\",u+l)\n",
    "print(\"no. of digits =\",d)\n",
    "print(w_c)\n"
   ]
  },
  {
   "cell_type": "code",
   "execution_count": 11,
   "id": "62702a0c",
   "metadata": {},
   "outputs": [
    {
     "name": "stdout",
     "output_type": "stream",
     "text": [
      "this is a \n",
      "python program to\n",
      "count digits and alphabets\n",
      "the the the the a a a a\n",
      "is the z a\n",
      "\n",
      "\n",
      "this_is_a_\n",
      "python_program_to\n",
      "count_digits_and_alphabets\n",
      "THE_THE_THE_THE_a_a_a_a\n",
      "is_THE_z_a\n",
      "\n"
     ]
    }
   ],
   "source": [
    "import string\n",
    "\n",
    "g = open(\"AlphabetDigitsText.txt\",\"r\")\n",
    "h = open(\"AlphabetDigitsText.txt\",\"r\")\n",
    "content = g.read()\n",
    "contentlist = h.readlines()\n",
    "words = content.split()\n",
    "\n",
    "print(content)\n",
    "print()\n",
    "x = content.replace(\"the\",\"THE\")\n",
    "x = x.replace(\" \",\"_\")\n",
    "print(x)"
   ]
  },
  {
   "cell_type": "code",
   "execution_count": 28,
   "id": "1ed99600",
   "metadata": {},
   "outputs": [
    {
     "name": "stdout",
     "output_type": "stream",
     "text": [
      "Enter 10 lines\n",
      "ab\n",
      "cd\n",
      "ef\n",
      "gh\n",
      "ij\n",
      "kl\n",
      "mn\n",
      "op\n",
      "qr\n",
      "st\n"
     ]
    }
   ],
   "source": [
    "f = open(\"tenLines.txt\",\"w\")\n",
    "print(\"Enter 10 lines\")\n",
    "for x in range(10):\n",
    "    inp =input()\n",
    "    f.write(inp+\"\\n\")\n",
    "f.close()\n",
    " \n"
   ]
  },
  {
   "cell_type": "code",
   "execution_count": 50,
   "id": "7e682d8a",
   "metadata": {},
   "outputs": [
    {
     "name": "stdout",
     "output_type": "stream",
     "text": [
      "['ab\\n', 'cd\\n', 'ef\\n', 'gh\\n', 'ij\\n', 'kl\\n', 'mn\\n', 'op\\n', 'qr\\n', 'st\\n']\n",
      "['st\\n', 'qr\\n', 'op\\n', 'mn\\n', 'kl\\n', 'ij\\n', 'gh\\n', 'ef\\n', 'cd\\n', 'ab\\n']\n",
      "2nd line : cd\n",
      "\n",
      "3rd line : ef\n",
      "\n",
      "['qr\\n', 'st\\n']\n"
     ]
    }
   ],
   "source": [
    "g = open(\"tenLines.txt\",\"r\")\n",
    "\n",
    "l = g.readlines()\n",
    "rev = l.copy()\n",
    "rev.reverse()\n",
    "print(l)\n",
    "print(rev)\n",
    "print(\"2nd line :\",l[1])\n",
    "print(\"3rd line :\",l[2])\n",
    "print(l[len(l)-2:len(l)])"
   ]
  },
  {
   "cell_type": "code",
   "execution_count": 55,
   "id": "d9d5237c",
   "metadata": {},
   "outputs": [
    {
     "name": "stdout",
     "output_type": "stream",
     "text": [
      "['This', 'is', 'asjl', 'we', 'euf', 'ajf', 'gw', 'eh', 'hrthjgr', 'geroijg', 'rjotowerijgf', 'r', 'irjtger', 'g', 'ergoj', 'grijg', 'ijtr', 'rehg65jyh', 'th', 'jytjut', 'jytyhkth', 'trypk', 'rtgi']\n",
      "longest: rjotowerijgf\n",
      "shortest: r\n"
     ]
    }
   ],
   "source": [
    "f = open(\"FiveLines.txt\",\"w\")\n",
    "print(\"Enter 10 lines\")\n",
    "for x in range(10):\n",
    "    inp =input()\n",
    "    f.write(inp+\"\\n\")\n",
    "f.close()\n",
    "g = open(\"FiveLines.txt\",\"r\")\n",
    "cont = g.read()\n",
    "words = cont.split()\n",
    "\n",
    "low = high = words[0]\n",
    "print(words)\n",
    "for x in words:\n",
    "    n = len(x)\n",
    "    if n>len(high):\n",
    "        high = x\n",
    "    if n<len(low):\n",
    "        low = x\n",
    "print(\"longest:\",high)\n",
    "print(\"shortest:\",low)"
   ]
  },
  {
   "cell_type": "code",
   "execution_count": 58,
   "id": "9edd7a3d",
   "metadata": {},
   "outputs": [
    {
     "name": "stdout",
     "output_type": "stream",
     "text": [
      "['1\\n', '2\\n', '23\\n', '345\\n', '5\\n', '56\\n', '67\\n', '7\\n', 'ad\\n', 'ad\\n', 'af\\n', 'afd\\n', 'dgrg\\n', 'fhyt\\n', 'gds\\n', 're\\n', 'rtgdg\\n', 'th\\n', 'tyj\\n', 'yjtf\\n']\n"
     ]
    }
   ],
   "source": [
    "f = open(\"file1.txt\",\"w\")\n",
    "print(\"Enter 10 lines\")\n",
    "for x in range(10):\n",
    "    inp =input()\n",
    "    f.write(inp+\"\\n\")\n",
    "f.close()\n",
    "f = open(\"file2.txt\",\"w\")\n",
    "print(\"Enter 10 lines\")\n",
    "for x in range(10):\n",
    "    inp =input()\n",
    "    f.write(inp+\"\\n\")\n",
    "f.close()\n",
    "\n",
    "g = open(\"file1.txt\",\"r\")\n",
    "f1Cont = g.readlines()\n",
    "h = open(\"file2.txt\",\"r\")\n",
    "f2Cont = h.readlines()\n",
    "\n",
    "tot = f1Cont+f2Cont\n",
    "\n",
    "tot.sort()\n",
    "print(tot)\n",
    "res = open(\"Result.txt\",\"w\")\n",
    "\n",
    "for x in tot:\n",
    "    res.write(x)\n",
    "res.close()"
   ]
  },
  {
   "cell_type": "markdown",
   "id": "c78b5572",
   "metadata": {},
   "source": []
  },
  {
   "cell_type": "code",
   "execution_count": null,
   "id": "236b5411",
   "metadata": {},
   "outputs": [],
   "source": []
  }
 ],
 "metadata": {
  "kernelspec": {
   "display_name": "Python 3 (ipykernel)",
   "language": "python",
   "name": "python3"
  },
  "language_info": {
   "codemirror_mode": {
    "name": "ipython",
    "version": 3
   },
   "file_extension": ".py",
   "mimetype": "text/x-python",
   "name": "python",
   "nbconvert_exporter": "python",
   "pygments_lexer": "ipython3",
   "version": "3.8.10"
  }
 },
 "nbformat": 4,
 "nbformat_minor": 5
}
